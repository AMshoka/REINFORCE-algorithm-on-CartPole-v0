{
 "cells": [
  {
   "cell_type": "markdown",
   "metadata": {
    "id": "9xbhjr9brjug"
   },
   "source": [
    "# CE 40719: Deep Learning\n",
    "## HW6-Q5: REINFORCE (with baseline)\n",
    "\n",
    "*Full name*:AmirHossein Mohammadi\n",
    "\n",
    "*STD-ID*: 99201081"
   ]
  },
  {
   "cell_type": "markdown",
   "metadata": {
    "id": "H_SQnwEgr-n4"
   },
   "source": [
    "In this notebook, you are going to implement REINFORCE algorithm on `CartPole-v0` and compare it to the case with a baseline. To know more about this, please refer to [Sutton&Barto, 13.3-13.4](https://www.andrew.cmu.edu/course/10-703/textbook/BartoSutton.pdf). "
   ]
  },
  {
   "cell_type": "code",
   "execution_count": 14,
   "metadata": {
    "id": "pWXwQWHpzBp0"
   },
   "outputs": [],
   "source": [
    "%%bash\n",
    "pip install gym pyvirtualdisplay > /dev/null 2>&1\n",
    "apt-get install -y xvfb python-opengl ffmpeg > /dev/null 2>&1"
   ]
  },
  {
   "cell_type": "code",
   "execution_count": 15,
   "metadata": {
    "id": "yoqy4RQ1tlCf"
   },
   "outputs": [],
   "source": [
    "import gym\n",
    "import torch\n",
    "from torch import nn\n",
    "import torch.nn.functional as F\n",
    "import numpy as np\n",
    "from tqdm import tqdm\n",
    "from gym.wrappers import Monitor\n",
    "import glob\n",
    "import io\n",
    "import base64\n",
    "from IPython.display import HTML\n",
    "from pyvirtualdisplay import Display\n",
    "from IPython import display as ipythondisplay\n",
    "import matplotlib.pyplot as plt\n",
    "import warnings\n",
    "\n",
    "\n",
    "warnings.filterwarnings('ignore')\n",
    "device = 'cuda' if torch.cuda.is_available() else 'cpu'"
   ]
  },
  {
   "cell_type": "markdown",
   "metadata": {
    "id": "nCpogcJVEmjD"
   },
   "source": [
    "# Auxiliary methods"
   ]
  },
  {
   "cell_type": "markdown",
   "metadata": {
    "id": "wV7rn1wm8l_7"
   },
   "source": [
    "You can use the following methods to display demos and results of your code."
   ]
  },
  {
   "cell_type": "code",
   "execution_count": 16,
   "metadata": {
    "id": "1gNxLW-_un7Q"
   },
   "outputs": [],
   "source": [
    "root = '/content/video'\n",
    "display = Display(visible=0, size=(200, 150))\n",
    "display.start()\n",
    "\n",
    "def show_video(path=root):\n",
    "    mp4list = glob.glob(f'{path}/*.mp4')\n",
    "    if len(mp4list) > 0:\n",
    "        mp4 = mp4list[0]\n",
    "        video = io.open(mp4, 'r+b').read()\n",
    "        encoded = base64.b64encode(video)\n",
    "        ipythondisplay.display(HTML(data='''<video alt=\"test\" autoplay \n",
    "                    loop controls style=\"height: 250px;\">\n",
    "                    <source src=\"data:video/mp4;base64,{0}\" type=\"video/mp4\" />\n",
    "                    </video>'''.format(encoded.decode('ascii'))))\n",
    "    else: \n",
    "        print(\"Could not find video\")\n",
    "    \n",
    "def wrap_env(env, path=root):\n",
    "    return Monitor(env, path, force=True)\n",
    "\n",
    "def plot_curves(curves, title, smooth=True, w_size=50):\n",
    "    \"\"\"\n",
    "    This method plots series specified in `curves['series']`\n",
    "    inside the same figure.\n",
    "\n",
    "    - curves: a dictionary, dict(curves=a list of lists, labels=a list of strings);\n",
    "    - title: figure's title;\n",
    "    - smooth: whether to take a moving average over each series;\n",
    "    - w_size: size of the moving average window;\n",
    "\n",
    "    Notice: Series must have the same length.\n",
    "    \"\"\"\n",
    "    series, labels = curves['series'], curves['labels']  \n",
    "    N = len(series[0])\n",
    "    assert all([len(s) == N for s in series])     \n",
    "    x = list(range(N))\n",
    "    for s, label in zip(series, labels):\n",
    "        window = np.ones(w_size)/w_size\n",
    "        s_smooth = np.convolve(s, window, mode='same')\n",
    "        y = s_smooth[w_size:N-w_size] if smooth else s\n",
    "        plt.plot(x[w_size:N-w_size], y, label=label)\n",
    "    plt.legend()\n",
    "    plt.title(title)\n",
    "    plt.show()"
   ]
  },
  {
   "cell_type": "markdown",
   "metadata": {
    "id": "c8rqqS6PErwj"
   },
   "source": [
    "# `CartPole-v0`"
   ]
  },
  {
   "cell_type": "markdown",
   "metadata": {
    "id": "GlPUJuL6D_Cb"
   },
   "source": [
    "You can see specifications of `CartPole-v0` in the following cell."
   ]
  },
  {
   "cell_type": "code",
   "execution_count": 17,
   "metadata": {
    "colab": {
     "base_uri": "https://localhost:8080/"
    },
    "id": "Ot2tvhqftzN6",
    "outputId": "d5ed61de-6421-4891-b8e0-128248d7ed3c"
   },
   "outputs": [
    {
     "name": "stdout",
     "output_type": "stream",
     "text": [
      "Action Space: Discrete(2)\n",
      "Observation Space: Box(-3.4028234663852886e+38, 3.4028234663852886e+38, (4,), float32)\n",
      "Max Episode Steps: 200\n",
      "Nondeterministic: False\n",
      "Reward Range: (-inf, inf)\n",
      "Reward Threshold: 195.0\n",
      "\n"
     ]
    }
   ],
   "source": [
    "env_id = 'CartPole-v0'\n",
    "env = gym.make(env_id)\n",
    "spec = gym.spec(env_id)\n",
    "\n",
    "print(f\"Action Space: {env.action_space}\")\n",
    "print(f\"Observation Space: {env.observation_space}\")\n",
    "print(f\"Max Episode Steps: {spec.max_episode_steps}\")\n",
    "print(f\"Nondeterministic: {spec.nondeterministic}\")\n",
    "print(f\"Reward Range: {env.reward_range}\")\n",
    "print(f\"Reward Threshold: {spec.reward_threshold}\\n\")"
   ]
  },
  {
   "cell_type": "markdown",
   "metadata": {
    "id": "EJDgDBwwEFZK"
   },
   "source": [
    "Here you can see a demo of the completely random policy."
   ]
  },
  {
   "cell_type": "code",
   "execution_count": 18,
   "metadata": {
    "colab": {
     "base_uri": "https://localhost:8080/",
     "height": 271
    },
    "id": "B1AWVLHBuIlH",
    "outputId": "f6d71dac-016a-49d2-faf7-b79f52bb5068"
   },
   "outputs": [
    {
     "data": {
      "text/html": [
       "<video alt=\"test\" autoplay \n",
       "                    loop controls style=\"height: 250px;\">\n",
       "                    <source src=\"data:video/mp4;base64,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\" type=\"video/mp4\" />\n",
       "                    </video>"
      ],
      "text/plain": [
       "<IPython.core.display.HTML object>"
      ]
     },
     "metadata": {},
     "output_type": "display_data"
    }
   ],
   "source": [
    "env = gym.make('CartPole-v0')\n",
    "env = wrap_env(env)\n",
    "state = env.reset()\n",
    "done = False\n",
    "while not done:\n",
    "    action = env.action_space.sample()\n",
    "    state, reward, done, _ = env.step(action)\n",
    "env.close()\n",
    "show_video()"
   ]
  },
  {
   "cell_type": "markdown",
   "metadata": {
    "id": "QS4BDb4EEhrs"
   },
   "source": [
    "# Method"
   ]
  },
  {
   "cell_type": "markdown",
   "metadata": {
    "id": "o16vcRmz6d3m"
   },
   "source": [
    "You can either use `Net` to create baseline and policy networks, or use any other custom architecture. "
   ]
  },
  {
   "cell_type": "code",
   "execution_count": 19,
   "metadata": {
    "id": "xPC9WJaVzyQv"
   },
   "outputs": [],
   "source": [
    "class Net(nn.Module):\n",
    "    def __init__(self, input_dim, hidden_dim, outdim_policy, outdim_baseline):\n",
    "        super(Net, self).__init__()\n",
    "        self.shared = nn.Linear(input_dim, hidden_dim)\n",
    "        self.policy = nn.Linear(hidden_dim, outdim_policy)\n",
    "        self.baseline = nn.Linear(hidden_dim, outdim_baseline)\n",
    "\n",
    "    def forward(self, x):\n",
    "        x = self.shared(x)\n",
    "        x = F.relu(x)\n",
    "        p = F.softmax(self.policy(x))\n",
    "        b = self.baseline(x)\n",
    "        return p, b"
   ]
  },
  {
   "cell_type": "code",
   "execution_count": 23,
   "metadata": {
    "id": "ldgNIQJ037O-"
   },
   "outputs": [],
   "source": [
    "from numpy.lib.function_base import gradient\n",
    "from math import gamma\n",
    "from torch.nn.modules.loss import GaussianNLLLoss\n",
    "from torch._C import dtype\n",
    "class REINFORCECartPole():\n",
    "    def __init__(self, use_baseline=False, GAMMA=None, lr=None):\n",
    "        self.env_id = 'CartPole-v0'\n",
    "        self.env = gym.make(self.env_id)\n",
    "        self.use_baseline = use_baseline\n",
    "        self.GAMMA = GAMMA\n",
    "        ############################ ToDo (1 points) #########################\n",
    "        # Define your network, optimizer, and criterion.\n",
    "        self.input_shape=self.env.observation_space.shape[0]\n",
    "        self.model_NET=Net(input_dim=self.input_shape,hidden_dim=128,outdim_policy= self.env.action_space.n,outdim_baseline=1)\n",
    "        self.model_NET.to(device=device)\n",
    "        self.optimi=torch.optim.Adam(self.model_NET.parameters(),lr=lr)\n",
    "        self.loss_criterion=nn.MSELoss()\n",
    "        ######################################################################\n",
    "        \n",
    "\n",
    "    def generate_episode(self, video=False, train=True):\n",
    "        trajectory = []\n",
    "        ############################ ToDo (2 points) #########################\n",
    "        # Generate a trajectory from the current policy. This method may be\n",
    "        # used at training and evaluation time. Also you can record the demo\n",
    "        # of the trajectory to display later.\n",
    "        ######################################################################\n",
    "        if video:\n",
    "          self.env = wrap_env(self.env)\n",
    "        # snum=0\n",
    "        # smax=10000\n",
    "        done=False\n",
    "        state_obs = self.env.reset()\n",
    "        while True:\n",
    "          action,base,logprob=self.select_action(state_obs,train)\n",
    "          new_state,reward,done,information=self.env.step(action)\n",
    "          trajectory.append([state_obs,action,reward,logprob,base])\n",
    "          state_obs=new_state\n",
    "          if done:\n",
    "            break\n",
    "          # snum=snum+1\n",
    "        if video:\n",
    "          self.env.close()\n",
    "        \n",
    "        return trajectory\n",
    "    # def generate_episode(self, video=False, train=True):\n",
    "    #     trajectory = []\n",
    "    #     ############################ ToDo (2 points) #########################\n",
    "    #     # Generate a trajectory from the current policy. This method may be\n",
    "    #     # used at training and evaluation time. Also you can record the demo\n",
    "    #     # of the trajectory to display later.\n",
    "    #     ######################################################################  \n",
    "    #     if video: self.env = wrap_env(self.env)\n",
    "    #     state = self.env.reset()\n",
    "    #     done = False\n",
    "    #     step_num = 0\n",
    "    #     while not done and step_num < self.max_steps:\n",
    "    #         # print(step_num)\n",
    "    #         action, log_prob, state_val= self.select_action(state, train)\n",
    "    #         new_state, reward, done, info = self.env.step(action)\n",
    "    #         trajectory.append((state, action, reward, log_prob, state_val))\n",
    "    #         state = new_state\n",
    "    #         step_num += 1\n",
    "    #     if video: self.env.close()\n",
    "    #     # show_video()\n",
    "    #     return trajectory\n",
    "\n",
    "\n",
    "    def select_action(self, state, train=True):\n",
    "        ############################ ToDo (4 points) #########################\n",
    "        # Select action based on `state`. At training time, you should sample\n",
    "        # from the policy distribution, but at test time, you need to takes\n",
    "        # the best possible action.\n",
    "        ######################################################################\n",
    "        select_state=torch.tensor(state,dtype=torch.float).unsqueeze(0).to(device=device)\n",
    "        prob,base=self.model_NET(select_state)\n",
    "        # prob=prob.squeeze().cpu().detach().numpy()\n",
    "        if train:\n",
    "          action=np.random.choice(self.env.action_space.n, p=prob.squeeze().cpu().detach().numpy())\n",
    "        else:\n",
    "          action=np.argmax(prob.squeeze().cpu().detach().numpy())\n",
    "        logprob=torch.log(prob.squeeze(0)[action])\n",
    "\n",
    "        return action,base,logprob\n",
    "\n",
    "          \n",
    "\n",
    "    def train(self, n_episodes, n_eval_episodes=15):\n",
    "        ############################ ToDo (10 points) ########################\n",
    "        # Train your networks in the following loop. At the end of each\n",
    "        # episode, evaluate your networks on `n_eval_episodes` episodes and\n",
    "        # store average total return of them in `TRs`. You are going to plot\n",
    "        # these TRs later.\n",
    "        ######################################################################\n",
    "        TRs = []\n",
    "        for i in tqdm(range(n_episodes)):\n",
    "            trajectory=self.generate_episode(train=True)\n",
    "            dis_rewads=[]\n",
    "            for ts in range(len(trajectory)):\n",
    "              Gt=0\n",
    "              exp=0\n",
    "              for state_obs,action,reward,logprob,base in trajectory[ts:]:\n",
    "                Gt=Gt+(GAMMA**exp)*reward\n",
    "                exp=exp+1\n",
    "              dis_rewads.append(Gt)\n",
    "            if not self.use_baseline:\n",
    "              grad=[]\n",
    "              for (state_obs,action,reward,logprob,base),Gt in zip(trajectory,dis_rewads):\n",
    "                grad.append(-Gt*logprob)\n",
    "              self.optimi.zero_grad()\n",
    "              grad=torch.stack(grad).sum()\n",
    "              grad.backward()\n",
    "              self.optimi.step()\n",
    "              mean=self.evaluate(n_eval_episodes)\n",
    "              TRs.append(mean)\n",
    "            else:\n",
    "              dis_rewads=torch.tensor(dis_rewads)\n",
    "              dis_rewads=(dis_rewads-dis_rewads.mean())/(dis_rewads.std()+1e-12)\n",
    "              blines=[]\n",
    "              for state_obs,action,reward,logprob,base in trajectory:\n",
    "                blines.append(base)\n",
    "              blines=torch.tensor(blines)\n",
    "              loss=self.loss_criterion(blines,dis_rewads)\n",
    "              minus=[]\n",
    "              for g,b in zip(dis_rewads,blines):\n",
    "                minus.append(g-b)\n",
    "              minus=torch.tensor(minus) \n",
    "              grad=[]\n",
    "              for m,(state_obs,action,reward,logprob,base) in zip(minus,trajectory):\n",
    "                grad.append(-logprob*m)\n",
    "              self.optimi.zero_grad()\n",
    "              grad=torch.stack(grad).sum()\n",
    "              loss_t=grad+loss\n",
    "              loss_t.backward()\n",
    "              self.optimi.step()\n",
    "              mean=self.evaluate(n_eval_episodes)\n",
    "              TRs.append(mean)\n",
    "\n",
    "        return TRs\n",
    "\n",
    "    def evaluate(self, n_episodes):\n",
    "        ############################ ToDo (2 points) #########################\n",
    "        # Evaluate your networks on `n_episodes` episodes and return the \n",
    "        # average **undiscounted** total return.\n",
    "        ######################################################################\n",
    "        total_return=[]\n",
    "        for epi in range(n_episodes):\n",
    "          trajector=self.generate_episode(train=False)\n",
    "          returns=[]\n",
    "          for ts in range(len(trajector)):\n",
    "            Gt=0\n",
    "            for state_obs,action,reward,logprob,base in trajector[ts:]:\n",
    "              Gt=Gt+reward\n",
    "            returns.append(Gt)\n",
    "          total_return.append(sum(returns))\n",
    "          mean_total_return=sum(total_return)/len(total_return)\n",
    "          return mean_total_return\n",
    "\n",
    "    def show_demo(self):\n",
    "        ############################ ToDo (1 points) #########################\n",
    "        # Display demo of one episode based on the current policy.\n",
    "        ######################################################################]\n",
    "        self.generate_episode(video=True,train=False)\n",
    "        show_video()"
   ]
  },
  {
   "cell_type": "markdown",
   "metadata": {
    "id": "hTZTIkFvEZWj"
   },
   "source": [
    "# Results & conclusion"
   ]
  },
  {
   "cell_type": "code",
   "execution_count": 24,
   "metadata": {
    "id": "btkgPEoPiTjD"
   },
   "outputs": [],
   "source": [
    "# First you need to choose appropriate input values.\n",
    "n = 1000\n",
    "lr = 0.0003\n",
    "GAMMA = 0.9\n",
    "kwargs = dict(GAMMA=GAMMA, lr=lr)"
   ]
  },
  {
   "cell_type": "code",
   "execution_count": 25,
   "metadata": {
    "colab": {
     "base_uri": "https://localhost:8080/",
     "height": 289
    },
    "id": "auwd-xVQiCgR",
    "outputId": "03f26fa6-a9ec-45b0-fd29-300256c0b39e"
   },
   "outputs": [
    {
     "name": "stderr",
     "output_type": "stream",
     "text": [
      "100%|██████████| 1000/1000 [01:23<00:00, 11.95it/s]\n"
     ]
    },
    {
     "data": {
      "text/html": [
       "<video alt=\"test\" autoplay \n",
       "                    loop controls style=\"height: 250px;\">\n",
       "                    <source src=\"data:video/mp4;base64,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\" type=\"video/mp4\" />\n",
       "                    </video>"
      ],
      "text/plain": [
       "<IPython.core.display.HTML object>"
      ]
     },
     "metadata": {},
     "output_type": "display_data"
    }
   ],
   "source": [
    "reinforce = REINFORCECartPole(**kwargs)\n",
    "returns_reinforce = reinforce.train(n)\n",
    "reinforce.show_demo()"
   ]
  },
  {
   "cell_type": "code",
   "execution_count": 27,
   "metadata": {
    "colab": {
     "base_uri": "https://localhost:8080/",
     "height": 289
    },
    "id": "l9Syd60jiMcG",
    "outputId": "7351dede-c387-4707-afb9-a2fdccbfa980"
   },
   "outputs": [
    {
     "name": "stderr",
     "output_type": "stream",
     "text": [
      "100%|██████████| 1000/1000 [01:41<00:00,  9.89it/s]\n"
     ]
    },
    {
     "data": {
      "text/html": [
       "<video alt=\"test\" autoplay \n",
       "                    loop controls style=\"height: 250px;\">\n",
       "                    <source src=\"data:video/mp4;base64,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\" type=\"video/mp4\" />\n",
       "                    </video>"
      ],
      "text/plain": [
       "<IPython.core.display.HTML object>"
      ]
     },
     "metadata": {},
     "output_type": "display_data"
    }
   ],
   "source": [
    "kwargs['use_baseline'] = True\n",
    "reinforce_b = REINFORCECartPole(**kwargs)\n",
    "returns_reinforce_b = reinforce_b.train(n)\n",
    "reinforce_b.show_demo()"
   ]
  },
  {
   "cell_type": "code",
   "execution_count": 28,
   "metadata": {
    "colab": {
     "base_uri": "https://localhost:8080/",
     "height": 281
    },
    "id": "ich3ahWpiYkZ",
    "outputId": "ef47b13f-6cdf-4690-ec8f-40d8807f4b7f"
   },
   "outputs": [
    {
     "data": {
      "image/png": "[encoded data removed]",
      "text/plain": [
       "<Figure size 432x288 with 1 Axes>"
      ]
     },
     "metadata": {
      "needs_background": "light"
     },
     "output_type": "display_data"
    }
   ],
   "source": [
    "############################ ToDo (1 points) ########################\n",
    "# Plot total return curves for both methods in the same figure.\n",
    "curves = {'series':[returns_reinforce, returns_reinforce_b], 'labels':[\"without\", \"baseline\"]}\n",
    "plot_curves(curves, \"Training Phase\")\n",
    "#####################################################################"
   ]
  },
  {
   "cell_type": "markdown",
   "metadata": {
    "id": "JZ8xHdyM0kK8"
   },
   "source": [
    "**Question: (4 points)**\n",
    "\n",
    "+ Interpret your results. What is the difference between REINFORCE with baseline and without baseline?\n",
    "\n",
    "+ What is the difference between REINFORCE with baseline and Actor-Critic methods?"
   ]
  },
  {
   "cell_type": "markdown",
   "metadata": {},
   "source": [
    "<div style=\"direction:rtl;line-height:300%;text-align:justify;\" align=\"justify\"><font face=\"B nazanin\" size=4>\n",
    " در حالت baseline روند آموزش Smoothتر است و تغییرات کمتری دارد و این در حالی است که در روش بدون Baseline تغییرات بیشتر است و در حالت بدون baseline تغییرات بسیار بیشتر است همانطور که در نمودار دیده می شود و میانگین Rewardهای محاسبه شده تغییرات زیادی دارد \n",
    "\n",
    "</font></div>"
   ]
  },
  {
   "cell_type": "markdown",
   "metadata": {},
   "source": [
    "<div style=\"direction:rtl;line-height:300%;text-align:justify;\" align=\"justify\"><font face=\"B nazanin\" size=4>\n",
    " تفاوت Baseline و َActor-Critic در این است که در روش baseline خطای Estimation پس از یک Episode کامل محاسبه و به روز رسانی می شود و در روش Actor-Critic خطای Estimation در Step و در حین یک Episode محاسبه می شود \n",
    "\n",
    "</font></div>"
   ]
  },
  {
   "cell_type": "code",
   "execution_count": null,
   "metadata": {},
   "outputs": [],
   "source": []
  }
 ],
 "metadata": {
  "accelerator": "GPU",
  "colab": {
   "collapsed_sections": [],
   "name": "REINFORCEv1.ipynb",
   "provenance": []
  },
  "kernelspec": {
   "display_name": "Python 3",
   "language": "python",
   "name": "python3"
  },
  "language_info": {
   "codemirror_mode": {
    "name": "ipython",
    "version": 3
   },
   "file_extension": ".py",
   "mimetype": "text/x-python",
   "name": "python",
   "nbconvert_exporter": "python",
   "pygments_lexer": "ipython3",
   "version": "3.8.5"
  }
 },
 "nbformat": 4,
 "nbformat_minor": 1
}
